{
 "cells": [
  {
   "cell_type": "code",
   "execution_count": null,
   "id": "6dffbcda",
   "metadata": {
    "vscode": {
     "languageId": "plaintext"
    }
   },
   "outputs": [],
   "source": [
    "import lithops\n",
    "import boto3\n",
    "from insult_filter_batch import insult_filter_batch\n",
    "\n",
    "\n",
    "def dynamic_scaler():\n",
    "    λ = 5\n",
    "    T = 0.5\n",
    "    Tr = 2\n",
    "    C = 10\n",
    "\n",
    "    sqs = boto3.client('sqs', region_name='us-east-1')\n",
    "    queue_url = 'https://sqs.us-east-1.amazonaws.com/164573654608/InsultTextQueue'\n",
    "\n",
    "    resp = sqs.get_queue_attributes(\n",
    "        QueueUrl=queue_url,\n",
    "        AttributeNames=['ApproximateNumberOfMessages']\n",
    "    )\n",
    "\n",
    "    backlog = int(resp['Attributes']['ApproximateNumberOfMessages'])\n",
    "    print(f\"📦 Mensajes en cola: {backlog}\")\n",
    "\n",
    "    if backlog == 0:\n",
    "        print(\"✔️ Nada que procesar\")\n",
    "        return\n",
    "\n",
    "    N = int((λ * T + backlog / Tr) / C)\n",
    "    N = max(1, N)\n",
    "\n",
    "    print(f\"🚀 Lanzando {N} funciones con Lithops...\")\n",
    "\n",
    "    fexec = lithops.FunctionExecutor()\n",
    "    fexec.map(insult_filter_batch, [None] * N)\n",
    "    results = fexec.get_result()\n",
    "\n",
    "    for i, r in enumerate(results):\n",
    "        print(f\"\\n✅ Worker {i+1}:\")\n",
    "        if isinstance(r, list):\n",
    "            for line in r:\n",
    "                print(\"→\", line)\n",
    "        else:\n",
    "            print(r)\n"
   ]
  },
  {
   "cell_type": "code",
   "execution_count": null,
   "id": "e823f9bc",
   "metadata": {
    "vscode": {
     "languageId": "plaintext"
    }
   },
   "outputs": [],
   "source": [
    "dynamic_scaler()\n"
   ]
  }
 ],
 "metadata": {
  "language_info": {
   "name": "python"
  }
 },
 "nbformat": 4,
 "nbformat_minor": 5
}
