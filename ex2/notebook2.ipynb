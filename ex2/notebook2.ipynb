{
 "cells": [
  {
   "cell_type": "code",
   "execution_count": null,
   "id": "e3d83049",
   "metadata": {
    "vscode": {
     "languageId": "plaintext"
    }
   },
   "outputs": [],
   "source": [
    "from insult_filter_single import insult_filter_single\n",
    "import lithops\n",
    "import boto3\n",
    "import time\n",
    "\n",
    "def stream(func, maxfunc, queue_url):\n",
    "    fexec = lithops.FunctionExecutor()\n",
    "    sqs = boto3.client('sqs', region_name='us-east-1')\n",
    "\n",
    "    futures = []\n",
    "\n",
    "    print(\"🚀 Iniciando procesamiento continuo...\")\n",
    "\n",
    "    while True:\n",
    "        # Obtener número de mensajes pendientes\n",
    "        attributes = sqs.get_queue_attributes(\n",
    "            QueueUrl=queue_url,\n",
    "            AttributeNames=['ApproximateNumberOfMessages']\n",
    "        )\n",
    "        num_msgs = int(attributes['Attributes']['ApproximateNumberOfMessages'])\n",
    "\n",
    "        # Salir si ya no hay mensajes ni funciones activas\n",
    "        if num_msgs == 0 and not any(not f.done for f in futures):\n",
    "            print(\"✔️ Cola vacía y procesamiento completado.\")\n",
    "            break\n",
    "\n",
    "        # Lanzar nuevas funciones si hay espacio\n",
    "        while len(futures) < maxfunc and num_msgs > 0:\n",
    "            future = fexec.call_async(func, None)\n",
    "            futures.append(future)\n",
    "            num_msgs -= 1\n",
    "            print(f\"→ Función lanzada ({len(futures)}/{maxfunc})\")\n",
    "\n",
    "        # Mostrar resultados de funciones completadas\n",
    "        for f in futures:\n",
    "            if f.ready and not hasattr(f, \"_printed\"):\n",
    "                print(\"✅\", f.result())\n",
    "                f._printed = True\n",
    "\n",
    "        # Eliminar funciones que ya han terminado\n",
    "        futures = [f for f in futures if not f.ready]\n",
    "        time.sleep(0.5)\n"
   ]
  },
  {
   "cell_type": "code",
   "execution_count": null,
   "id": "32ec8b69",
   "metadata": {
    "vscode": {
     "languageId": "plaintext"
    }
   },
   "outputs": [],
   "source": [
    "queue_url = 'https://sqs.us-east-1.amazonaws.com/164573654608/InsultTextQueue'\n",
    "stream(insult_filter_single, maxfunc=3, queue_url=queue_url)"
   ]
  }
 ],
 "metadata": {
  "language_info": {
   "name": "python"
  }
 },
 "nbformat": 4,
 "nbformat_minor": 5
}
